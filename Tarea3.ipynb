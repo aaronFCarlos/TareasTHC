{
  "nbformat": 4,
  "nbformat_minor": 0,
  "metadata": {
    "colab": {
      "provenance": []
    },
    "kernelspec": {
      "name": "python3",
      "display_name": "Python 3"
    },
    "language_info": {
      "name": "python"
    }
  },
  "cells": [
    {
      "cell_type": "code",
      "execution_count": null,
      "metadata": {
        "id": "dxKBG6X6mmwB",
        "colab": {
          "base_uri": "https://localhost:8080/"
        },
        "outputId": "37077eca-20f1-4748-bcd0-f68ab6684c24"
      },
      "outputs": [
        {
          "output_type": "stream",
          "name": "stdout",
          "text": [
            "35\n",
            "2\n",
            "La suma de los números es: \n",
            "37.0\n",
            "La resta de los números es: \n",
            "33.0\n",
            "La multiplicación de los números es: \n",
            "70.0\n",
            "La división de los números es: \n",
            "17.5\n"
          ]
        }
      ],
      "source": [
        "# Tarea 3\n",
        "\n",
        "# Ej 1\n",
        "\n",
        "num1 = float(input( ))\n",
        "\n",
        "num2 = float(input( ))\n",
        "\n",
        "suma = num1 + num2\n",
        "resta = num1 - num2\n",
        "mult = num1 * num2\n",
        "div = num1 / num2\n",
        "\n",
        "print(\"La suma de los números es: \")\n",
        "print(suma)\n",
        "print(\"La resta de los números es: \")\n",
        "print(resta)\n",
        "print(\"La multiplicación de los números es: \")\n",
        "print(mult)\n",
        "print(\"La división de los números es: \")\n",
        "print(div)"
      ]
    },
    {
      "cell_type": "code",
      "source": [
        "# Ej 2\n",
        "\n",
        "print(\"Celsius a Fahrenheit\")\n",
        "C = float(input(\"Ingrese la temperatura en Celsius: \\n\"))\n",
        "\n",
        "F = float((C * 9/5) + 32)\n",
        "print(F)\n"
      ],
      "metadata": {
        "colab": {
          "base_uri": "https://localhost:8080/"
        },
        "id": "8odW3gymsfcb",
        "outputId": "7b0267c9-a4ad-4e45-9721-d0a0ddc1241c"
      },
      "execution_count": null,
      "outputs": [
        {
          "output_type": "stream",
          "name": "stdout",
          "text": [
            "Celsius a Fahrenheit\n",
            "Ingrese la temperatura en Celsius: \n",
            "36\n",
            "96.8\n"
          ]
        }
      ]
    },
    {
      "cell_type": "code",
      "source": [
        "# Ej 4\n",
        "\n",
        "print(\"Escriba una frase\")\n",
        "frase = str(input( ))\n",
        "palabras = frase.split()\n",
        "\n",
        "print(\"Número de palabras en la frase:\")\n",
        "print(len(palabras))\n",
        "\n"
      ],
      "metadata": {
        "colab": {
          "base_uri": "https://localhost:8080/"
        },
        "id": "dmSBxX52uVCU",
        "outputId": "391f6a0f-82ac-4672-d127-7a78959e405d"
      },
      "execution_count": null,
      "outputs": [
        {
          "output_type": "stream",
          "name": "stdout",
          "text": [
            "Escriba una frase\n",
            "Lorem ipsum dolor sit amet, consectetur adipiscing elit, sed do eiusmod tempor incididunt ut labore et dolore magna aliqua.\n",
            "Número de palabras en la frase:\n",
            "19\n"
          ]
        }
      ]
    },
    {
      "cell_type": "code",
      "source": [
        "# Ej 6\n",
        "\n",
        "print(\"Ingrese las calificaciones\")\n",
        "cal = [ ]\n",
        "cal.append(float(input( )))\n",
        "cal.append(float(input( )))\n",
        "cal.append(float(input( )))\n",
        "cal.append(float(input( )))\n",
        "print(cal)\n",
        "\n",
        "calfinal = (cal[0] + cal[1] + cal[2] + cal[3]) / len(cal)\n",
        "print(calfinal)"
      ],
      "metadata": {
        "colab": {
          "base_uri": "https://localhost:8080/"
        },
        "id": "RZ_OUnEhyY1t",
        "outputId": "17c39bf3-09d9-4c0c-ca74-7fff24999c85"
      },
      "execution_count": null,
      "outputs": [
        {
          "output_type": "stream",
          "name": "stdout",
          "text": [
            "Ingrese las calificaciones\n",
            "9\n",
            "9\n",
            "9\n",
            "9\n",
            "[9.0, 9.0, 9.0, 9.0]\n",
            "9.0\n"
          ]
        }
      ]
    },
    {
      "cell_type": "code",
      "source": [
        "# Ej 10\n",
        "\n",
        "print(\"Ingrese el nombre: \")\n",
        "estudiante1 = str(input( ))\n",
        "print(\"Ingrese las calificaciones\")\n",
        "calEs1 = [ ]\n",
        "calEs1.append(float(input( )))\n",
        "calEs1.append(float(input( )))\n",
        "calEs1.append(float(input( )))\n",
        "calEs1.append(float(input( )))\n",
        "\n",
        "print(\"Ingrese el nombre: \")\n",
        "estudiante2 = str(input( ))\n",
        "print(\"Ingrese las calificaciones\")\n",
        "calEs2 = [ ]\n",
        "calEs2.append(float(input( )))\n",
        "calEs2.append(float(input( )))\n",
        "calEs2.append(float(input( )))\n",
        "calEs2.append(float(input( )))\n",
        "\n",
        "print(\"Ingrese el nombre: \")\n",
        "estudiante3 = str(input( ))\n",
        "print(\"Ingrese las calificaciones\")\n",
        "calEs3 = [ ]\n",
        "calEs3.append(float(input( )))\n",
        "calEs3.append(float(input( )))\n",
        "calEs3.append(float(input( )))\n",
        "calEs3.append(float(input( )))\n",
        "\n",
        "print(estudiante1)\n",
        "calfinalEs1 = (calEs1[0] + calEs1[1] + calEs1[2] + calEs1[3]) / len(calEs1)\n",
        "print(calfinalEs1)\n",
        "\n",
        "print(estudiante2)\n",
        "calfinalEs2 = (calEs2[0] + calEs2[1] + calEs2[2] + calEs2[3]) / len(calEs2)\n",
        "print(calfinalEs2)\n",
        "\n",
        "print(estudiante3)\n",
        "calfinalEs3 = (calEs3[0] + calEs3[1] + calEs3[2] + calEs3[3]) / len(calEs3)\n",
        "print(calfinalEs3)"
      ],
      "metadata": {
        "colab": {
          "base_uri": "https://localhost:8080/"
        },
        "id": "n5vFtn8Y53YF",
        "outputId": "02ad91bf-355a-4dff-d344-0c957bcbebe4"
      },
      "execution_count": null,
      "outputs": [
        {
          "output_type": "stream",
          "name": "stdout",
          "text": [
            "Ingrese el nombre: \n",
            "Est1\n",
            "Ingrese las calificaciones\n",
            "10\n",
            "10\n",
            "10\n",
            "10\n",
            "Ingrese el nombre: \n",
            "Est2\n",
            "Ingrese las calificaciones\n",
            "5\n",
            "5\n",
            "5\n",
            "6\n",
            "Ingrese el nombre: \n",
            "Est3\n",
            "Ingrese las calificaciones\n",
            "9\n",
            "8\n",
            "7\n",
            "6\n",
            "Est1\n",
            "10.0\n",
            "Est2\n",
            "5.25\n",
            "Est3\n",
            "7.5\n"
          ]
        }
      ]
    },
    {
      "cell_type": "code",
      "source": [
        "# Ej 2\n",
        "\n",
        "# Tabla de multiplicar\n",
        "\n",
        "\n",
        "print(\"Escriba un número para obtener sus primeros diez multiplos\")   # 1. Indicamos al usuario escribir un número para encontrar sus multiplos\n",
        "numero = float(input())\n",
        "\n",
        "i = 1   # 2. Luego definimos una variable la cual multiplicaremos con el número dado\n",
        "\n",
        "while i <= 10:    # 3. Luego comenzamos un bucle para hacer la mutiplicación mientras el valor de la variable i es menor o igual a 10\n",
        "  print(numero * i)   # 4. Mientras el valor de i sea igual o menor a diez, se mostrará el resultado de la multiplicacion entre el número dado y la variable i\n",
        "  i += 1    # 5. Luego redefiniremos la variable i para que valga i+1, así aumentaremos el valor de la variable cada vez que la condición del bucle se deje de cumplir\n",
        "\n",
        "\n"
      ],
      "metadata": {
        "id": "nQCmvPe3-MRO",
        "colab": {
          "base_uri": "https://localhost:8080/"
        },
        "outputId": "0af267ea-9017-4684-acfd-cc4506e3f4a5"
      },
      "execution_count": 3,
      "outputs": [
        {
          "output_type": "stream",
          "name": "stdout",
          "text": [
            "Escriba un número para obtener sus primeros diez multiplos\n",
            "11\n",
            "11.0\n",
            "22.0\n",
            "33.0\n",
            "44.0\n",
            "55.0\n",
            "66.0\n",
            "77.0\n",
            "88.0\n",
            "99.0\n",
            "110.0\n"
          ]
        }
      ]
    },
    {
      "cell_type": "code",
      "source": [
        "# Ej 3\n",
        "\n",
        "# Calcula el area de un rectangulo\n",
        "\n",
        "print(\"Escriba la base del rectangulo\")   # 1. Primero necesitamos que el usuario ingrese los valores de la base\n",
        "base = float(input())\n",
        "print(\"Escriba la altura del rectangulo\")   # 2. Luego necesitamos que el usuario ingrese los valores de la altura\n",
        "altura = float(input())\n",
        "\n",
        "area = base * altura    # 3. Despues multiplicamos los valores dados para obtener el area del rectangulo\n",
        "print(\"El area del rectangulo es \" + str(area))   # 4. Y al ultimo mostramos el resultado"
      ],
      "metadata": {
        "colab": {
          "base_uri": "https://localhost:8080/"
        },
        "id": "fvQaxHF83d1b",
        "outputId": "044b0863-c3cb-4130-ba93-5e19ce9ba2c2"
      },
      "execution_count": 6,
      "outputs": [
        {
          "output_type": "stream",
          "name": "stdout",
          "text": [
            "Escriba la base del rectangulo\n",
            "10\n",
            "Escriba la altura del rectangulo\n",
            "3\n",
            "El area del rectangulo es 30.0\n"
          ]
        }
      ]
    },
    {
      "cell_type": "code",
      "source": [
        "# Ej 6\n",
        "\n",
        "# Area de un triangulo\n",
        "\n",
        "\n",
        "#ingrese una altura\n",
        "alt = float(input())\n",
        "#ingrese una base\n",
        "base = float(input())\n",
        "\n",
        "\n",
        "#Ahora el programa calculará el rea del triangulo\n",
        "area = (base * alt) / 2\n",
        "print(area)"
      ],
      "metadata": {
        "colab": {
          "base_uri": "https://localhost:8080/"
        },
        "id": "LyVsOxz46u28",
        "outputId": "6c7c2375-eb17-4ded-a5d3-d28417f389fc"
      },
      "execution_count": 51,
      "outputs": [
        {
          "output_type": "stream",
          "name": "stdout",
          "text": [
            "10\n",
            "5\n",
            "25.0\n"
          ]
        }
      ]
    }
  ]
}