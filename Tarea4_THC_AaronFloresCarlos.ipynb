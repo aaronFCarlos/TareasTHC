{
  "nbformat": 4,
  "nbformat_minor": 0,
  "metadata": {
    "colab": {
      "provenance": []
    },
    "kernelspec": {
      "name": "python3",
      "display_name": "Python 3"
    },
    "language_info": {
      "name": "python"
    }
  },
  "cells": [
    {
      "cell_type": "code",
      "execution_count": null,
      "metadata": {
        "id": "9vnZ_7bIYAwu"
      },
      "outputs": [],
      "source": [
        "# Tarea 4"
      ]
    },
    {
      "cell_type": "code",
      "source": [
        "# Ejercicio 1\n",
        "\n",
        "# Diseña un programa que convierta dólares americanos a pesos mexicanos, euros, libras esterlinas,\n",
        "# yuanes y rublos utilizando una tasa de cambio fija. Muestre la tasa de cambio e imprima los cinco resultados.\n",
        "\n",
        "dolar = float(input())\n",
        "\n",
        "# Conversiones\n",
        "peso = float(dolar*19.8)\n",
        "euro = float(dolar*0.93)\n",
        "libra = float(dolar*0.77)\n",
        "rublo = float(dolar*95.9)\n",
        "yuan = float(dolar*7.12)\n",
        "\n",
        "print(str(peso) + \" pesos | Tasa de cambio: 1 dolar = 19.80 pesos\")\n",
        "print(str(euro) + \" euros | Tasa de cambio: 1 dolar = 0.93 euro\")\n",
        "print(str(libra) + \" libras | Tasa de cambio: 1 dolar = 0.77 libras\")\n",
        "print(str(rublo) + \" rublos | Tasa de cambio: 1 dolar = 95.90 rublos\")\n",
        "print(str(yuan) + \" yuanes | Tasa de cambio: 1 dolar = 7.12 yuanes\")\n"
      ],
      "metadata": {
        "colab": {
          "base_uri": "https://localhost:8080/"
        },
        "id": "Tmw7Yr48YDXT",
        "outputId": "9353df13-67d2-4eb3-fd02-b0b356ee0ca3"
      },
      "execution_count": null,
      "outputs": [
        {
          "output_type": "stream",
          "name": "stdout",
          "text": [
            "10\n",
            "198.0 pesos | Tasa de cambio: 1 dolar = 19.80 pesos\n",
            "9.3 euros | Tasa de cambio: 1 dolar = 0.93 euro\n",
            "7.7 libras | Tasa de cambio: 1 dolar = 0.77 libras\n",
            "959.0 rublos | Tasa de cambio: 1 dolar = 95.90 rublos\n",
            "71.2 yuanes | Tasa de cambio: 1 dolar = 7.12 yuanes\n"
          ]
        }
      ]
    },
    {
      "cell_type": "code",
      "source": [
        "# Ejercicio 2\n",
        "\n",
        "# Escribe un programa que pida al usuario su edad y clasifique la entrada en 'niño', 'adolescente', 'adulto' o 'adulto mayor'.\n",
        "\n",
        "print(\"Introduce tu edad:\")\n",
        "edad = int(input())\n",
        "\n",
        "if edad >= 60:\n",
        "  print(\"Adulto mayor\")\n",
        "else:\n",
        "  if edad >= 18:\n",
        "    print(\"Adulto\")\n",
        "  else:\n",
        "    if edad >= 12:\n",
        "      print(\"Adolencente\")\n",
        "    else:\n",
        "      print(\"Niño\")\n"
      ],
      "metadata": {
        "colab": {
          "base_uri": "https://localhost:8080/"
        },
        "id": "GRbrmskOYMvf",
        "outputId": "3d4db636-5b88-4780-affa-7918cf0c07da"
      },
      "execution_count": null,
      "outputs": [
        {
          "output_type": "stream",
          "name": "stdout",
          "text": [
            "Introduce tu edad:\n",
            "17\n",
            "Adolencente\n"
          ]
        }
      ]
    },
    {
      "cell_type": "code",
      "source": [
        "# Ejercicio 3\n",
        "\n",
        "# Desarrolla un programa que calcule el precio final de un producto después de aplicar un descuento.\n",
        "# El usuario debe ingresar el precio original y el porcentaje de descuento. Imprima el precio final.\n",
        "\n",
        "print(\"Introduzca el precio del producto:\")\n",
        "precio = float(input())\n",
        "print(\"Introduzca el porcentaje de descuento\")\n",
        "descuento = float(input())\n",
        "desc = descuento/100\n",
        "\n",
        "# Descuento\n",
        "precioFinal = float(precio * desc)\n",
        "print(\"Es precio final es: \" + str(precioFinal))\n"
      ],
      "metadata": {
        "colab": {
          "base_uri": "https://localhost:8080/"
        },
        "id": "Ji-HohdZYOn3",
        "outputId": "1a281a9e-d12b-4513-80a0-0b117725a3fd"
      },
      "execution_count": null,
      "outputs": [
        {
          "output_type": "stream",
          "name": "stdout",
          "text": [
            "Introduzca el precio del producto:\n",
            "250\n",
            "Introduzca el porcentaje de descuento\n",
            "20\n",
            "Es precio final es: 50.0\n"
          ]
        }
      ]
    },
    {
      "cell_type": "code",
      "source": [
        "# Ejercicio 4\n",
        "# Crea un script que determine cuál de tres números introducidos por el usuario es el mayor, usando sentencias IF anidadas o múltiples ELIF.\n",
        "\n",
        "# Numeros\n",
        "print(\"Introduzca tres numeros\")\n",
        "n1 = float(input())\n",
        "n2 = float(input())\n",
        "n3 = float(input())\n",
        "\n",
        "# Comparación\n",
        "\n",
        "if n1 < n2  and n1 < n3:\n",
        "  print(str(n3) + \" es mayor\")\n",
        "elif n1 < n2  and n2> n3:\n",
        "  print(str(n2) +  \" es mayor\")\n",
        "elif n1 > n2 and n1 > n3:\n",
        "  print(str(n1) + \" es mayor\")"
      ],
      "metadata": {
        "colab": {
          "base_uri": "https://localhost:8080/"
        },
        "id": "IocMY3QEYTyp",
        "outputId": "b76ede86-944f-43aa-ae39-18f54da5e1bd"
      },
      "execution_count": null,
      "outputs": [
        {
          "output_type": "stream",
          "name": "stdout",
          "text": [
            "Introduzca tres numeros\n",
            "12\n",
            "67\n",
            "33\n",
            "33.0 es mayor\n"
          ]
        }
      ]
    },
    {
      "cell_type": "code",
      "source": [
        "# Ejercicio 5\n",
        "\n",
        "# Programe una función que resuelva ecuaciones de segundo grado utilizando la fórmula general.\n",
        "# El usuario debe ingresar los valores de a, b y c. Genere valores por default por si el usuario no ingresa un número entero o flotante.\n",
        "# Además, calcule el valor del discriminante (b^2 - 4ac) y determine si tiene soluciones reales, soluciones complejas. Imprima el resultado.\n",
        "\n",
        "import numpy as np\n",
        "\n",
        "a = float(2)\n",
        "b = float(7)\n",
        "c = float(5)\n",
        "\n",
        "#____________Raiz________________________\n",
        "res1 = float(4*a*c)\n",
        "raiz = float(np.sqrt((b ** 2) - res1))\n",
        "#print(res1)\n",
        "if raiz >= 0:\n",
        "  print(\"Tiene solucion en R\")\n",
        "else:\n",
        "  print(\"Tiene soluciones en C\")\n",
        "print(\"Resultado de la raiz: \" + str(raiz))\n",
        "\n",
        "#________________Soluciones_________________\n",
        "\n",
        "sol1 = ((-1)*b + raiz)/(2*a)\n",
        "sol2 = ((-1)*b - raiz)/(2*a)\n",
        "print(\"x1 = \" + str(sol1))\n",
        "print(\"x2 = \" + str(sol2))"
      ],
      "metadata": {
        "colab": {
          "base_uri": "https://localhost:8080/"
        },
        "id": "XhO_oPpNYaUi",
        "outputId": "a0c56402-b506-4eaf-fc7b-352b17ade344"
      },
      "execution_count": null,
      "outputs": [
        {
          "output_type": "stream",
          "name": "stdout",
          "text": [
            "Tiene solucion en R\n",
            "Resultado de la raiz: 3.0\n",
            "x1 = -1.0\n",
            "x2 = -2.5\n"
          ]
        }
      ]
    },
    {
      "cell_type": "code",
      "source": [
        "# Ejercicio 6\n",
        "\n",
        "# Escriba una función que reciba una lista de números y devuelva dos listas: una con los números positivos y otra con los negativos.\n",
        "\n",
        "lista = [2, -234, 34, 23, -2, .2, 0, -0.312, 46, -1]\n",
        "\n",
        "def filtro():\n",
        "  listaPos = []       # Lista vacia\n",
        "  listaNeg = []       # Lista vacia\n",
        "  #_________Filtro de elementos____________\n",
        "  for elemento in lista:\n",
        "    if elemento >= 0:\n",
        "      listaPos.append(elemento)\n",
        "    else:\n",
        "      listaNeg.append(elemento)\n",
        "  #_____________Muestras de las listas_______________\n",
        "  print(\"Lista de numeros positivos\")\n",
        "  for x in listaPos:\n",
        "    print(str(x) + \" es positivo\")\n",
        "  print(\"Lista de numeros negativos\")\n",
        "  for y in listaNeg:\n",
        "    print(str(y) + \" es negativo\")\n",
        "\n",
        "filtro()"
      ],
      "metadata": {
        "colab": {
          "base_uri": "https://localhost:8080/"
        },
        "id": "ZwxlC5tMfloy",
        "outputId": "a7026915-08cd-42b4-ff11-e062c6b2c8b3"
      },
      "execution_count": null,
      "outputs": [
        {
          "output_type": "stream",
          "name": "stdout",
          "text": [
            "Lista de numeros positivos\n",
            "2 es positivo\n",
            "34 es positivo\n",
            "23 es positivo\n",
            "0.2 es positivo\n",
            "0 es positivo\n",
            "46 es positivo\n",
            "Lista de numeros negativos\n",
            "-234 es negativo\n",
            "-2 es negativo\n",
            "-0.312 es negativo\n",
            "-1 es negativo\n"
          ]
        }
      ]
    },
    {
      "cell_type": "code",
      "source": [
        "# Ejercicio 7\n",
        "\n",
        "# Escriba una función que reciba una lista de datos (la de abajo) y devuelva listas con los datos filtrados.\n",
        "# Este programa debe separar los datos en int, str, bool, float. Hint: use la función append para insertar datos en las listas.\n",
        "\n",
        "Datos= [5, 2.4, \"hola\", 7, 10, 3.14,True,False, \"Hi\", 0, 0.265] # lista a usar\n",
        "\n",
        "def filtro1():\n",
        "  listInt = []\n",
        "  listStr = []\n",
        "  listBool = []\n",
        "  listFloat = []\n",
        "#________________Filtro de elementos de la lista__________________________\n",
        "  for elmnt in Datos:           # Lista int\n",
        "    if type(elmnt) == int:\n",
        "      listInt.append(elmnt)\n",
        "  for elmnt in Datos:           # Lista str\n",
        "    if type(elmnt) == str:\n",
        "      listStr.append(elmnt)\n",
        "  for elmnt in Datos:           # Lista bool\n",
        "    if type(elmnt) == bool:\n",
        "      listBool.append(elmnt)\n",
        "  for elmnt in Datos:           # Lista float\n",
        "    if type(elmnt) == float:\n",
        "      listFloat.append(elmnt)\n",
        "#_________________Listas finales_____________________\n",
        "  print(\"Listas\")\n",
        "  print(listInt)\n",
        "  print(listStr)\n",
        "  print(listBool)\n",
        "  print(listFloat)\n",
        "\n",
        "\n",
        "filtro1()"
      ],
      "metadata": {
        "colab": {
          "base_uri": "https://localhost:8080/"
        },
        "id": "kaaCWlNrmGyF",
        "outputId": "7cd55c8b-4068-43e3-92e3-2f21de4560e7"
      },
      "execution_count": null,
      "outputs": [
        {
          "output_type": "stream",
          "name": "stdout",
          "text": [
            "Listas\n",
            "[5, 7, 10, 0]\n",
            "['hola', 'Hi']\n",
            "[True, False]\n",
            "[2.4, 3.14, 0.265]\n"
          ]
        }
      ]
    },
    {
      "cell_type": "code",
      "source": [
        "# Ejercicio 8\n",
        "\n",
        "# Imprimir pirámide de asteriscos Descripción:\n",
        "# Crea una función que imprima una pirámide de asteriscos usando bucles anidados, donde el número de niveles de la pirámide sea un valor dado.\n",
        "\n",
        "def pirAst():\n",
        "  ast = str(\"*\")\n",
        "  for x in range(n):      # Ciclo\n",
        "    print(ast)\n",
        "    ast = str(ast) + str(\"*\")     # Añade asteriscos a la piramide\n",
        "\n",
        "print(\"Ingrese un número entero\")\n",
        "n = int(input())\n",
        "print(\"Piramide de \" + str(n) + \" asteriscos:\")\n",
        "pirAst()"
      ],
      "metadata": {
        "colab": {
          "base_uri": "https://localhost:8080/"
        },
        "id": "CKDuvxLYm_wj",
        "outputId": "8976bb05-564f-4196-c826-f8c4429ec913"
      },
      "execution_count": null,
      "outputs": [
        {
          "output_type": "stream",
          "name": "stdout",
          "text": [
            "Ingrese un número entero\n",
            "10\n",
            "Piramide de 10 asteriscos:\n",
            "*\n",
            "**\n",
            "***\n",
            "****\n",
            "*****\n",
            "******\n",
            "*******\n",
            "********\n",
            "*********\n",
            "**********\n"
          ]
        }
      ]
    },
    {
      "cell_type": "code",
      "source": [
        "# Ejercicio 9\n",
        "\n",
        "# Escriba una función que calcule el factorial de un número, el cual debe ser ingresado por el usuario,\n",
        "# después usted debe validar que sea un número natural mayor o igual a cero y en caso de que ingrese un número negativo,\n",
        "# una letra o cadena, debe pedir nuevamente el número al usuario.\n",
        "\n",
        "#__________Función______________________\n",
        "def fact():\n",
        "  n1 = 1\n",
        "  fct = int(1)\n",
        "  while n1 < n:     # Ciclo\n",
        "    n1 = n1 + 1\n",
        "    fct = n1 * fct\n",
        "  print(\"Su factorial es: \" + str(fct))\n",
        "\n",
        "print(\"Ingrese un número natural para calcular su factorial\")\n",
        "n = int(input())\n",
        "\n",
        "#__________Condicional_____________\n",
        "if n >= 1:\n",
        "  fact()\n",
        "else:\n",
        "  print(\"Ingrese un número natural de nuevo\")\n",
        "  n = int(input())\n",
        "  fact()"
      ],
      "metadata": {
        "colab": {
          "base_uri": "https://localhost:8080/"
        },
        "id": "J3guTrRGva_U",
        "outputId": "23132954-e263-41cc-e7e7-9c1595bef76e"
      },
      "execution_count": 16,
      "outputs": [
        {
          "output_type": "stream",
          "name": "stdout",
          "text": [
            "Ingrese un número natural para calcular su factorial\n",
            "-5\n",
            "Ingrese un número natural de nuevo\n",
            "6\n",
            "Su factorial es: 720\n"
          ]
        }
      ]
    },
    {
      "cell_type": "code",
      "source": [
        "# Ejercicio 10\n",
        "\n",
        "# Programar una función que calcule la distancia entre dos puntos en el plano cartesiano, dadas sus coordenadas (x1, y1) y (x2, y2).\n",
        "\n",
        "import numpy as np\n",
        "\n",
        "def dist():\n",
        "  p1 = []\n",
        "  p2 = []\n",
        "  print(\"Defina las coordenadas de P1\") # Punto 1\n",
        "  p1.append(float(input()))   # X\n",
        "  p1.append(float(input()))   # Y\n",
        "  print(\"Defina las coordenadas de P2\") # Punto 2\n",
        "  p2.append(float(input()))   # X\n",
        "  p2.append(float(input()))   # Y\n",
        "\n",
        "#___________Operaciones_______________\n",
        "  restaX = float(p2[0] - p1[0])\n",
        "  restaY = float(p2[1] - p1[1])\n",
        "  res1 = float((restaX ** 2) + (restaY **2))\n",
        "  res2 = float(np.sqrt(res1))\n",
        "\n",
        "  print(\"La distancia entre los puntos es: \"+ str(res2))\n",
        "\n",
        "dist()"
      ],
      "metadata": {
        "id": "uwQzqOtv1emu",
        "colab": {
          "base_uri": "https://localhost:8080/"
        },
        "outputId": "72004eb3-c5e6-4484-9059-e1893a0e4bad"
      },
      "execution_count": null,
      "outputs": [
        {
          "output_type": "stream",
          "name": "stdout",
          "text": [
            "Defina las coordenadas de P1\n",
            "4\n",
            "0\n",
            "Defina las coordenadas de P2\n",
            "0\n",
            "3\n",
            "La distancia entre los puntos es: 5.0\n"
          ]
        }
      ]
    },
    {
      "cell_type": "code",
      "source": [
        "# Ejercicio 11\n",
        "\n",
        "# Programe un script que determine si dos rectas dadas por las ecuaciones y1=m1x + b1 y y2=m2x+b2 se intersectan,\n",
        "# son paralelas o coincidentes. Utilice estructuras de control (IF - ELSE) para manejar los diferentes casos.\n",
        "\n",
        "# Recta 1\n",
        "m1 = float(input())\n",
        "b1 = float(input())\n",
        "# Recta 2\n",
        "m2 = float(input())\n",
        "b2 = float(input())\n",
        "\n",
        "if m1 == m2 and b1 == b2:     # Coincidentes\n",
        "  print(\"Las rectas son coincidentes\")\n",
        "else:\n",
        "  if m1 == m2:      # Paralelas\n",
        "    print(\"Las rectas son paralelas\")\n",
        "  else:\n",
        "    if m1 != m2:      # Intersección\n",
        "      print(\"Las rectas se intersectan\")"
      ],
      "metadata": {
        "id": "JjgLQjCnKGTm",
        "colab": {
          "base_uri": "https://localhost:8080/"
        },
        "outputId": "0894a062-e9b1-4278-afcd-310101aec1e0"
      },
      "execution_count": 20,
      "outputs": [
        {
          "output_type": "stream",
          "name": "stdout",
          "text": [
            "5\n",
            "63\n",
            "5\n",
            "23\n",
            "Las rectas son paralelas\n"
          ]
        }
      ]
    },
    {
      "cell_type": "code",
      "source": [
        "# Ejercicio 12\n",
        "\n",
        "# Iván y Miguel quieren jugar a los dados con las siguientes reglas:\n",
        "\n",
        "# Si sale 1, vuelven a lanzar.\n",
        "# Si sale 6, quedan empatados.\n",
        "# Si sale 2 ó 3 gana Iván.\n",
        "# Si sale 4 ó 5 gana Miguel.\n",
        "# Haga un programa que le permita jugar a Iván y Miguel utilizando el condicional while.\n",
        "# Se debe imprimir el mensaje de acuerdo a las reglas establecidas. Hint = Utilice la librería random para generar los números aleatorios.\n",
        "\n",
        "import random\n",
        "\n",
        "m = int(input()) # Número de tiradas\n",
        "n = int(1)\n",
        "\n",
        "while n <= m:\n",
        "  x = random.randint(1, 6)  # Generador de números\n",
        "  if x == 1:\n",
        "    print(\"Tirada: \" + str(n) + \" | Dado: \" + str(x) + \" | Vuelven a lanzar\")\n",
        "  else:\n",
        "    if x == 6:\n",
        "      print(\"Tirada: \" + str(n) + \" | Dado: \" + str(x) + \" | Empate\")\n",
        "    else:\n",
        "      if x == 2 or x == 3:\n",
        "        print(\"Tirada: \" + str(n) + \" | Dado: \" + str(x) + \" | Gana Ivan\")\n",
        "      else:\n",
        "        if x == 4 or x == 5:\n",
        "          print(\"Tirada: \" + str(n) + \" | Dado: \" + str(x) + \" | Gana miguel\")\n",
        "\n",
        "  n = n + 1\n"
      ],
      "metadata": {
        "colab": {
          "base_uri": "https://localhost:8080/"
        },
        "id": "B9pZsJf1Ksxs",
        "outputId": "0af8ad74-78c0-468c-beb3-434cfb6d1ae1"
      },
      "execution_count": 15,
      "outputs": [
        {
          "output_type": "stream",
          "name": "stdout",
          "text": [
            "15\n",
            "Tirada: 1 | Dado: 5 | Gana miguel\n",
            "Tirada: 2 | Dado: 5 | Gana miguel\n",
            "Tirada: 3 | Dado: 3 | Gana Ivan\n",
            "Tirada: 4 | Dado: 2 | Gana Ivan\n",
            "Tirada: 5 | Dado: 5 | Gana miguel\n",
            "Tirada: 6 | Dado: 2 | Gana Ivan\n",
            "Tirada: 7 | Dado: 5 | Gana miguel\n",
            "Tirada: 8 | Dado: 3 | Gana Ivan\n",
            "Tirada: 9 | Dado: 4 | Gana miguel\n",
            "Tirada: 10 | Dado: 5 | Gana miguel\n",
            "Tirada: 11 | Dado: 3 | Gana Ivan\n",
            "Tirada: 12 | Dado: 1 | Vuelven a lanzar\n",
            "Tirada: 13 | Dado: 6 | Empate\n",
            "Tirada: 14 | Dado: 3 | Gana Ivan\n",
            "Tirada: 15 | Dado: 6 | Empate\n"
          ]
        }
      ]
    }
  ]
}