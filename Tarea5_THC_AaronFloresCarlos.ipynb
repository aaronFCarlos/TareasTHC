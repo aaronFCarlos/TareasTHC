{
  "nbformat": 4,
  "nbformat_minor": 0,
  "metadata": {
    "colab": {
      "provenance": []
    },
    "kernelspec": {
      "name": "python3",
      "display_name": "Python 3"
    },
    "language_info": {
      "name": "python"
    }
  },
  "cells": [
    {
      "cell_type": "markdown",
      "source": [
        "Tarea 5\n",
        "Aaron Flores Carlos"
      ],
      "metadata": {
        "id": "uwLMdMUfV2aL"
      }
    },
    {
      "cell_type": "code",
      "source": [
        "import numpy as np\n",
        "import matplotlib.pyplot as plt"
      ],
      "metadata": {
        "id": "fZOEJmjMEWcL"
      },
      "execution_count": 3,
      "outputs": []
    },
    {
      "cell_type": "code",
      "source": [
        "# Ejercicio 1\n",
        "# Suma de matrices\n",
        "\n",
        "#__________________Matrices______________________\n",
        "A = np.array([[11, 12, 13],[14, 15, 16],[17, 18, 19]])\n",
        "#A = np.array([[1,1,1],[1,1,1],[1,1,1]])   # matriz de prueba\n",
        "#print(A)\n",
        "\n",
        "B = np.array([[21, 22, 23],[24, 25, 26],[27, 28, 29]])\n",
        "#print(B)\n",
        "\n",
        "C = np.zeros((len(A),len(A[0])))   # Matriz resultado\n",
        "#print(C, C.size)\n",
        "\n",
        "z1 = 0      # indice para filas\n",
        "z2 = 0      # indice para columnas\n",
        "x1 = len(A)     # Estos valores serán utilizados para el ciclo de la función-\n",
        "x2 = len(A[0])  # para suma y multiplicación\n",
        "t1 = 0      # indice para traza de matrices\n",
        "\n",
        "#print(x1)\n",
        "#print(x2)\n",
        "#_____________Ejercicio 1: Suma de matrices________________\n",
        "def sumaM(z1,z2,x1,x2):\n",
        "  while z1 < x1:      # ciclo para para filas\n",
        "    while z2 < x2:      # ciclo para columnas\n",
        "      C[z1,z2] = A[z1,z2] + B[z1,z2]    # suma entrada a entrada\n",
        "      z2 = z2 + 1\n",
        "      #print(z2)\n",
        "    z2 = 0      # reseteador de contador\n",
        "    z1 = z1 + 1\n",
        "    #print(z1)\n",
        "  print(\"Matriz resultado:\\n\", C)\n",
        "\n",
        "#______________Ejercicio 2: Multiplicación de matrices_________________\n",
        "def multM(z1,z2,x1,x2):\n",
        "  while z1 < x1:      # ciclo para para filas\n",
        "    while z2 < x2:      # ciclo para columnas\n",
        "      C[z1,z2] = A[z1,z2] * B[z1,z2]    # multiplicación entrada a entrada\n",
        "      z2 = z2 + 1\n",
        "      #print(z2)\n",
        "    z2 = 0      # reseteador de contador\n",
        "    z1 = z1 + 1\n",
        "    #print(z1)\n",
        "  print(\"Matriz resultado:\\n\", C)\n",
        "\n",
        "#______________Ejercicio 3: Traza de una matriz____________________\n",
        "def trazaM(t1):\n",
        "  T_M = 0   # Resultado\n",
        "  while t1 < len(A):\n",
        "    T_M = A[t1,t1] + T_M    # Suma\n",
        "    t1 = t1 + 1\n",
        "    #print(t1)\n",
        "  print(\"Resultado:\\n\" , T_M)\n",
        "\n",
        "#______________Ejercicio 4: Transpuesta de una matriz___________________\n",
        "def transpM(z1,z2,x1,x2):\n",
        "  while z1 < x1:      # ciclo para para filas\n",
        "    while z2 < x2:      # ciclo para columnas\n",
        "      C[z2,z1] = A[z1,z2]    #  remplazo de cada entrada de la matriz\n",
        "      z2 = z2 + 1\n",
        "      #print(z2)\n",
        "    z2 = 0      # reseteador de contador\n",
        "    z1 = z1 + 1\n",
        "    #print(z1)\n",
        "  print(\"Matriz resultado:\\n\", C)\n",
        "\n",
        "#_____________Ejercicio 5: maximo y minimo de una matriz__________________\n",
        "def max():\n",
        "  comp = np.sort(A)     # matriz con los valores ordenados de menor a mayor\n",
        "  maxComp = comp[:,-1]    # nueva matriz con los maximos valores de cada fila\n",
        "  maxC1 = np.sort(maxComp)    # matriz con valores maximos ordenada\n",
        "  maximo = maxC1[-1]      # valor maximo de los valores maximos\n",
        "  print(\"Valor maximo: \\n\" , maximo)\n",
        "\n",
        "def min():\n",
        "  comp = np.sort(A)     # matriz con los valores ordenados de menor a mayor\n",
        "  minComp = comp[:,0]    # nueva matriz con los minimos valores de cada fila\n",
        "  minC1 = np.sort(minComp)    # matriz con valores minimos ordenada\n",
        "  minimo = minC1[0]      # valor minimo de los valores minimos\n",
        "  print(\"Valor minimo: \\n\" , minimo)\n",
        "\n",
        "#_____________Ejercicio 6: Suma del cuadrado de los elementos de una matriz_________________\n",
        "def sumaM2():\n",
        "  pot = A**2   # Matriz con la potencia de cada uno de sus elementos\n",
        "  x = 0     # indices\n",
        "  i = 0\n",
        "  i1 = 0\n",
        "  while i < len(pot):     # ciclo 1\n",
        "    i1 = 0        # reseteador del indice del ciclo 2\n",
        "    while i1 < len(pot[0]):     # ciclo 2\n",
        "      x = x + pot[i,i1]\n",
        "      i1 = i1 + 1\n",
        "    i = i + 1\n",
        "  print(\"Suma de los elementos de la matriz: \\n\",x)\n",
        "\n",
        "#_________________Ejercicio 7: Potencia de una matriz___________________\n",
        "def potenciaM(z1,z2,x1,x2):\n",
        "  while z1 < x1:      # ciclo para para filas\n",
        "    while z2 < x2:      # ciclo para columnas\n",
        "      C[z2,z1] = A[z1,z2]**2    #  remplazo de cada entrada de la matriz\n",
        "      z2 = z2 + 1\n",
        "      #print(z2)\n",
        "    z2 = 0      # reseteador de contador\n",
        "    z1 = z1 + 1\n",
        "    #print(z1)\n",
        "  print(\"Matriz resultado:\\n\", C)\n"
      ],
      "metadata": {
        "id": "l-B_XdAvE9Yn"
      },
      "execution_count": 4,
      "outputs": []
    },
    {
      "cell_type": "code",
      "source": [
        "# Ejercicio 1: Suma de matrices\n",
        "\n",
        "print(A+B, \" <---Comparación\") # comparación\n",
        "sumaM(z1,z2,x1,x2)"
      ],
      "metadata": {
        "colab": {
          "base_uri": "https://localhost:8080/"
        },
        "id": "nCw0Gbey53pf",
        "outputId": "3080ef9f-b991-4bea-8b8f-4477a2859a7d"
      },
      "execution_count": 5,
      "outputs": [
        {
          "output_type": "stream",
          "name": "stdout",
          "text": [
            "[[32 34 36]\n",
            " [38 40 42]\n",
            " [44 46 48]]  <---Comparación\n",
            "Matriz resultado:\n",
            " [[32. 34. 36.]\n",
            " [38. 40. 42.]\n",
            " [44. 46. 48.]]\n"
          ]
        }
      ]
    },
    {
      "cell_type": "code",
      "source": [
        "# Ejercicio 2: Multiplicación de matrices\n",
        "\n",
        "print(A*B, \" <---Comparación\")  # comparación\n",
        "multM(z1,z2,x1,x2)"
      ],
      "metadata": {
        "colab": {
          "base_uri": "https://localhost:8080/"
        },
        "id": "XcYf3ov553a_",
        "outputId": "0d1948f6-c790-4217-dee6-7d49d3580de8"
      },
      "execution_count": 6,
      "outputs": [
        {
          "output_type": "stream",
          "name": "stdout",
          "text": [
            "[[231 264 299]\n",
            " [336 375 416]\n",
            " [459 504 551]]  <---Comparación\n",
            "Matriz resultado:\n",
            " [[231. 264. 299.]\n",
            " [336. 375. 416.]\n",
            " [459. 504. 551.]]\n"
          ]
        }
      ]
    },
    {
      "cell_type": "code",
      "source": [
        "# Ejercicio 3: Traza de una matriz\n",
        "\n",
        "trazaM(t1)"
      ],
      "metadata": {
        "colab": {
          "base_uri": "https://localhost:8080/"
        },
        "id": "MfmU2wgQ7iD4",
        "outputId": "cc7a1efb-c129-49c2-cdf0-8870e46e3b4a"
      },
      "execution_count": 7,
      "outputs": [
        {
          "output_type": "stream",
          "name": "stdout",
          "text": [
            "Resultado:\n",
            " 45\n"
          ]
        }
      ]
    },
    {
      "cell_type": "code",
      "source": [
        "# Ejercicio 4: Transpuesta de una matriz\n",
        "\n",
        "transpM(z1,z2,x1,x2)"
      ],
      "metadata": {
        "colab": {
          "base_uri": "https://localhost:8080/"
        },
        "id": "m0yTiImPAOUN",
        "outputId": "6ab94bb0-bbaf-44ff-9799-48ea72cc4ae4"
      },
      "execution_count": 8,
      "outputs": [
        {
          "output_type": "stream",
          "name": "stdout",
          "text": [
            "Matriz resultado:\n",
            " [[11. 14. 17.]\n",
            " [12. 15. 18.]\n",
            " [13. 16. 19.]]\n"
          ]
        }
      ]
    },
    {
      "cell_type": "code",
      "source": [
        "# Ejercicio 5: Maximo y minimo de una matriz\n",
        "\n",
        "max()\n",
        "min()"
      ],
      "metadata": {
        "colab": {
          "base_uri": "https://localhost:8080/"
        },
        "id": "RzsXnPx4HiAc",
        "outputId": "4e945dbc-0b64-4d54-d1bc-54027a72901c"
      },
      "execution_count": 9,
      "outputs": [
        {
          "output_type": "stream",
          "name": "stdout",
          "text": [
            "Valor maximo: \n",
            " 19\n",
            "Valor minimo: \n",
            " 11\n"
          ]
        }
      ]
    },
    {
      "cell_type": "code",
      "source": [
        "# Ejercicio 6: Suma del cuadrado de los elementos de una matriz\n",
        "\n",
        "sumaM2()"
      ],
      "metadata": {
        "colab": {
          "base_uri": "https://localhost:8080/"
        },
        "id": "f2ij7NKWZRQv",
        "outputId": "3c5f9bd1-8fa6-4de7-e32f-9386b2449c55"
      },
      "execution_count": 10,
      "outputs": [
        {
          "output_type": "stream",
          "name": "stdout",
          "text": [
            "Suma de los elementos de la matriz: \n",
            " 2085\n"
          ]
        }
      ]
    },
    {
      "cell_type": "code",
      "source": [
        "# Ejercicio 7: Potencia de matrices\n",
        "potenciaM(z1,z2,x1,x2)"
      ],
      "metadata": {
        "colab": {
          "base_uri": "https://localhost:8080/"
        },
        "id": "IvynTEn08w4C",
        "outputId": "2d08c5ad-d265-4bf5-bbbb-44694965dd3b"
      },
      "execution_count": 11,
      "outputs": [
        {
          "output_type": "stream",
          "name": "stdout",
          "text": [
            "Matriz resultado:\n",
            " [[121. 196. 289.]\n",
            " [144. 225. 324.]\n",
            " [169. 256. 361.]]\n"
          ]
        }
      ]
    },
    {
      "cell_type": "code",
      "source": [
        "#_________________Ejercicio 8_______________________\n",
        "A1 = np.array([[11,7,-1],[-3,5,2],[4,2,-2]])    # Matriz A\n",
        "B1 = np.array([[1,1,1],[10,3,-5],[-6,-10,-3]])    # Matriz B\n",
        "\n",
        "# ___Operaciones____\n",
        "print(2*B+3*A)\n",
        "print((B+2*A)**2)\n",
        "print((A**2)+3*B)"
      ],
      "metadata": {
        "id": "pAukD9hMtJxZ",
        "colab": {
          "base_uri": "https://localhost:8080/"
        },
        "outputId": "331a1264-41b2-4f7a-c0ff-f4ff5faf3ea4"
      },
      "execution_count": 12,
      "outputs": [
        {
          "output_type": "stream",
          "name": "stdout",
          "text": [
            "[[ 75  80  85]\n",
            " [ 90  95 100]\n",
            " [105 110 115]]\n",
            "[[1849 2116 2401]\n",
            " [2704 3025 3364]\n",
            " [3721 4096 4489]]\n",
            "[[184 210 238]\n",
            " [268 300 334]\n",
            " [370 408 448]]\n"
          ]
        }
      ]
    },
    {
      "cell_type": "code",
      "source": [
        "# matplotlib\n",
        "\n",
        "#_______________________Ejercicio 1________________________________\n",
        "x = np.linspace(-10,10,1500)\n",
        "y1 = (x-1 )+ 1*(np.e**-x) #funcion 1, C>0\n",
        "y2 = (x-1 )+ 0*(np.e**-x) #funcion 2, C=0\n",
        "y3 = (x-1 )+ -1*(np.e**-x)  #funcion 3, C<0\n",
        "plt.plot(x, y1,\"g\",label= \"C>0\",linewidth=3)\n",
        "plt.plot(x, y2,\"--k\",label= \"C=0\",linewidth=3)\n",
        "plt.plot(x, y3,\"r\",label=\"C<0\",linewidth=3)\n",
        "plt.ylim(bottom=-150,top=150)\n",
        "plt.title(\"Familia de curvas\")\n",
        "plt.xlabel(\"Eje X\")\n",
        "plt.ylabel(\"Eje Y\")\n",
        "plt.legend()\n",
        "plt.grid()\n",
        "plt.show()"
      ],
      "metadata": {
        "colab": {
          "base_uri": "https://localhost:8080/",
          "height": 472
        },
        "id": "C7HS8dmXOW0f",
        "outputId": "ab7999fd-ad38-4058-fe6c-180485b5d5dc"
      },
      "execution_count": 13,
      "outputs": [
        {
          "output_type": "display_data",
          "data": {
            "text/plain": [
              "<Figure size 640x480 with 1 Axes>"
            ],
            "image/png": "[encoded data removed]"
          },
          "metadata": {}
        }
      ]
    },
    {
      "cell_type": "code",
      "source": [
        "#_______________________Ejercicio 2________________________________\n",
        "x = np.linspace(-10,10,5000)\n",
        "f1 = (3*x+7)/((x**2)-4)\n",
        "plt.plot(x, f1,\"k\",label=\"Función\")\n",
        "plt.vlines(-2,ymin=-50,ymax=50,colors=\"r\",linestyles=\"--\",label=\"asintota 1\",linewidth=4)   # Asintota 1\n",
        "plt.vlines(2,ymin=-50,ymax=50,colors=\"r\",linestyles=\"--\",label=\"asintota 2\",linewidth=4)    # Asintota 2\n",
        "plt.ylim(bottom=-50,top=50)\n",
        "plt.xticks([-10,-8,-6,-4,-2,0,2,4,6,8,10])\n",
        "plt.title(\"Grafica con asintotas verticales\")\n",
        "plt.xlabel(\"Eje X\")\n",
        "plt.ylabel(\"Eje Y\")\n",
        "plt.legend()\n",
        "plt.grid()\n",
        "plt.show()"
      ],
      "metadata": {
        "colab": {
          "base_uri": "https://localhost:8080/",
          "height": 472
        },
        "id": "0BMtm50ztKDs",
        "outputId": "d3ea8321-ee61-471d-97ba-a4c7c997669b"
      },
      "execution_count": 14,
      "outputs": [
        {
          "output_type": "display_data",
          "data": {
            "text/plain": [
              "<Figure size 640x480 with 1 Axes>"
            ],
            "image/png": "[encoded data removed]"
          },
          "metadata": {}
        }
      ]
    }
  ]
}